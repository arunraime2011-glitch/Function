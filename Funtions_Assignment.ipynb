{
  "nbformat": 4,
  "nbformat_minor": 0,
  "metadata": {
    "colab": {
      "provenance": []
    },
    "kernelspec": {
      "name": "python3",
      "display_name": "Python 3"
    },
    "language_info": {
      "name": "python"
    }
  },
  "cells": [
    {
      "cell_type": "markdown",
      "source": [
        "  FUNTION"
      ],
      "metadata": {
        "id": "5fv2FIkB54PA"
      }
    },
    {
      "cell_type": "markdown",
      "source": [
        "THEORY QUESTIONs.."
      ],
      "metadata": {
        "id": "ztTfSMXJPdQN"
      }
    },
    {
      "cell_type": "markdown",
      "source": [
        "1. What is the difference between a function and a method in Python?\n",
        "\n",
        "- In Python, both functions and methods are blocks of reusable code, but their key distinction lies in their association with classes and objects.\n",
        "\n",
        "Function:\n",
        "\n",
        "- A function is a standalone block of code defined independently, not within a class.\n",
        "- It is called directly by its name and can take arguments as input, returning a value or performing an action.\n",
        "- Functions are generally used for general-purpose tasks that don't inherently belong to a specific object or class.\n"
      ],
      "metadata": {
        "id": "s4Na8_4OP3v3"
      }
    },
    {
      "cell_type": "code",
      "source": [
        "#EXAMPLE:\n",
        "def greet(name):\n",
        "    return f\"Hello, {name}!\"\n",
        "\n",
        "message = greet(\"Alice\")\n",
        "print(message)"
      ],
      "metadata": {
        "colab": {
          "base_uri": "https://localhost:8080/"
        },
        "id": "n_-VSVQBRMhV",
        "outputId": "a6b181dd-22fb-4881-bfb9-3f1320e56014"
      },
      "execution_count": null,
      "outputs": [
        {
          "output_type": "stream",
          "name": "stdout",
          "text": [
            "Hello, Alice!\n"
          ]
        }
      ]
    },
    {
      "cell_type": "markdown",
      "source": [
        "Method:\n",
        "- A method is a function that is defined within a class and is associated with an object (an instance of that class).\n",
        "- It is called on an object using dot notation (e.g., object.method()).\n",
        "- Methods implicitly receive the instance of the class (usually referred to as self) as their first argument, allowing them to access and manipulate the object's data (attributes).\n",
        "- Methods are used to define the behaviors and actions that an object can perform."
      ],
      "metadata": {
        "id": "po6F77GuRfXy"
      }
    },
    {
      "cell_type": "code",
      "source": [
        "#EXAMPLE:\n",
        "class Dog:\n",
        "    def __init__(self, name):\n",
        "        self.name = name\n",
        "\n",
        "    def bark(self):\n",
        "        return f\"{self.name} says Woof!\"\n",
        "\n",
        "my_dog = Dog(\"Buddy\")\n",
        "print(my_dog.bark())"
      ],
      "metadata": {
        "colab": {
          "base_uri": "https://localhost:8080/"
        },
        "id": "PqciAqhzRxTS",
        "outputId": "a8bc878c-dba9-4008-c3e8-15659c0d31ea"
      },
      "execution_count": null,
      "outputs": [
        {
          "output_type": "stream",
          "name": "stdout",
          "text": [
            "Buddy says Woof!\n"
          ]
        }
      ]
    },
    {
      "cell_type": "markdown",
      "source": [
        "CONCLUSION:\n",
        "- Functions: are independent and called globally.\n",
        "- Methods: are tied to objects and called on instances of a class, operating on the object's data."
      ],
      "metadata": {
        "id": "5uo6UnjbSCuj"
      }
    },
    {
      "cell_type": "markdown",
      "source": [
        "2. Explain the concept of function arguments and parameters in Python.\n",
        "- In python,Parameters are\n",
        "- Parameters are the variables defined within the parentheses in a function's definition.\n",
        "- They act as placeholders for the values that the function expects to receive when it is called.\n",
        "- Parameters define the type and number of inputs a function can accept.\n",
        "  \n",
        "  Consider the following function definition:"
      ],
      "metadata": {
        "id": "D3HMIgEqSguc"
      }
    },
    {
      "cell_type": "code",
      "source": [
        "#EXAMPLE:\n",
        "def greet(name, message=\"Hello\"):\n",
        "    print(f\"{message}, {name}!\")\n",
        "\n",
        "#In this example, name and message are parameters. name is a required parameter, while message is an optional parameter with a default value of \"Hello\"."
      ],
      "metadata": {
        "id": "F6V6ERsyT5yS"
      },
      "execution_count": null,
      "outputs": []
    },
    {
      "cell_type": "code",
      "source": [
        "#Using the greet function from above\n",
        "greet(\"Alice\")\n",
        "greet(\"Bob\", \"Good morning\")"
      ],
      "metadata": {
        "colab": {
          "base_uri": "https://localhost:8080/"
        },
        "id": "fj3vSC5SU4rE",
        "outputId": "a9a8d24d-5875-4f73-a8c6-56b8defc53d1"
      },
      "execution_count": null,
      "outputs": [
        {
          "output_type": "stream",
          "name": "stdout",
          "text": [
            "Hello, Alice!\n",
            "Good morning, Bob!\n"
          ]
        }
      ]
    },
    {
      "cell_type": "markdown",
      "source": [
        "In the first call, \"Alice\" is an argument passed to the name parameter. The message parameter takes its default value. In the second call, \"Bob\" is the argument for name, and \"Good morning\" is the argument for message, overriding the default.So we conclued that:\n",
        "- Parameters: are part of the function definition.\n",
        "- Arguments: are part of the function call.\n",
        "- Parameters are placeholders, while arguments are the actual values"
      ],
      "metadata": {
        "id": "KTzPjWFEVjRL"
      }
    },
    {
      "cell_type": "markdown",
      "source": [
        "3. What are the different ways to define and call a function in Python?\n",
        "- Defining a Function in Python\n",
        "\n",
        "Functions in Python are defined using the def keyword, followed by the function name, parentheses for parameters, and a colon. The function's body is then indented."
      ],
      "metadata": {
        "id": "RQTAQBznV9QX"
      }
    },
    {
      "cell_type": "code",
      "source": [
        "def function_name(parameter1, parameter2):\n",
        "    \"\"\"\n",
        "    This is a docstring explaining what the function does.\n",
        "    \"\"\"\n",
        "    # Function body - code to be executed\n",
        "    result = parameter1 + parameter2\n",
        "    return result"
      ],
      "metadata": {
        "id": "Bu_MMhA1WkZY"
      },
      "execution_count": null,
      "outputs": []
    },
    {
      "cell_type": "code",
      "source": [],
      "metadata": {
        "id": "53A06tnLWm4L"
      },
      "execution_count": null,
      "outputs": []
    },
    {
      "cell_type": "markdown",
      "source": [
        "Key elements of function definition:\n",
        "\n",
        "- def keyword: Signals the start of a function definition.\n",
        "function_name: A descriptive name for the function (follows Python naming conventions).\n",
        "- parameters (optional): Variables enclosed in parentheses that the function accepts as input. These can be positional, keyword, or have default values.\n",
        ": colon: Ends the function definition line.\n",
        "- Indented code block: The function's body, containing the instructions to be executed when the function is called.\n",
        "- return statement (optional): Used to exit the function and optionally send a value back to the caller."
      ],
      "metadata": {
        "id": "22qi0zqaWsti"
      }
    },
    {
      "cell_type": "markdown",
      "source": [
        "Calling a Function in Python:\n",
        "\n",
        "To execute the code within a defined function, you \"call\" it by using its name followed by parentheses. If the function expects arguments, they are passed inside the parentheses."
      ],
      "metadata": {
        "id": "pM5EiderW9gZ"
      }
    },
    {
      "cell_type": "code",
      "source": [
        "# Calling a function with no arguments\n",
        "def greet():\n",
        "    print(\"Hello!\")\n",
        "\n",
        "greet()\n",
        "\n",
        "# Calling a function with positional arguments\n",
        "def add_numbers(a, b):\n",
        "    return a + b\n",
        "\n",
        "sum_result = add_numbers(5, 3)\n",
        "print(sum_result) # Output: 8\n",
        "\n",
        "# Calling a function with keyword arguments\n",
        "def introduce(name, age):\n",
        "    print(f\"My name is {name} and I am {age} years old.\")\n",
        "\n",
        "introduce(name=\"Alice\", age=30)\n",
        "introduce(age=25, name=\"Bob\") # Order doesn't matter with keyword arguments\n",
        "\n",
        "# Calling a function with default arguments\n",
        "def say_hello(name=\"Guest\"):\n",
        "    print(f\"Hello, {name}!\")\n",
        "\n",
        "say_hello()        # Output: Hello, Guest!\n",
        "say_hello(\"Charlie\") # Output: Hello, Charlie!"
      ],
      "metadata": {
        "colab": {
          "base_uri": "https://localhost:8080/"
        },
        "id": "m20kteypXEBd",
        "outputId": "6e760031-5a78-4a4e-9b72-50bb0938b1f2"
      },
      "execution_count": null,
      "outputs": [
        {
          "output_type": "stream",
          "name": "stdout",
          "text": [
            "Hello!\n",
            "8\n",
            "My name is Alice and I am 30 years old.\n",
            "My name is Bob and I am 25 years old.\n",
            "Hello, Guest!\n",
            "Hello, Charlie!\n"
          ]
        }
      ]
    },
    {
      "cell_type": "markdown",
      "source": [
        "Different ways to pass arguments when calling a function:\n",
        "\n",
        "- Positional arguments: Arguments are matched to parameters based on their order.\n",
        "- Keyword arguments: Arguments are explicitly named, allowing for flexible ordering.\n",
        "- Default arguments: Parameters can have default values, making them optional during the call.\n",
        "- Arbitrary arguments (*args and `: kwargs`):** Allow a function to accept a variable number of positional (*args) or keyword (**kwargs) arguments."
      ],
      "metadata": {
        "id": "-wEpMabnXOVK"
      }
    },
    {
      "cell_type": "markdown",
      "source": [
        "4. What is the purpose of the `return` statement in a Python function?\n",
        " - The return statement in a Python function serves two primary purposes:\n",
        "\n",
        "- Exiting the Function: When a return statement is encountered within a function, the function's execution immediately terminates. Any code following the return statement within that function will not be executed. Control is then passed back to the point in the code where the function was called.\n",
        "- Returning a Value: The return statement can optionally be followed by an expression or a value. This value is then \"returned\" to the caller of the function. This allows the function to produce a result that can be used by other parts of the program. If no value or expression is specified after return, or if the function reaches its end without encountering a return statement, it implicitly returns None.\n",
        "In essence, the return statement enables functions to:\n",
        "Signal the completion of their task.\n",
        "Provide a computed result or a status indicator back to the calling code, facilitating data flow and program logic."
      ],
      "metadata": {
        "id": "RfGBIkBtXerQ"
      }
    },
    {
      "cell_type": "code",
      "source": [
        "#EXAMPLE:\n",
        "def calculate_area(length, width):\n",
        "  \"\"\"\n",
        "  Calculates the area of a rectangle.\n",
        "  \"\"\"\n",
        "  area = length * width\n",
        "  return area # Returns the calculated area\n",
        "\n",
        "# Calling the function and storing the returned value\n",
        "rectangle_area = calculate_area(5, 10)\n",
        "print(f\"The area of the rectangle is: {rectangle_area}\")\n",
        "\n",
        "def greet(name):\n",
        "  \"\"\"\n",
        "  Prints a greeting message but doesn't return a specific value.\n",
        "  \"\"\"\n",
        "  print(f\"Hello, {name}!\")\n",
        "  # No return statement, so None is implicitly returned\n",
        "\n",
        "result = greet(\"Alice\")\n",
        "print(f\"The result of greet function is: {result}\") # Will print None"
      ],
      "metadata": {
        "colab": {
          "base_uri": "https://localhost:8080/"
        },
        "id": "AtZYSlnlZXiC",
        "outputId": "fbd6c809-095d-48de-9387-af0a7ae7a577"
      },
      "execution_count": null,
      "outputs": [
        {
          "output_type": "stream",
          "name": "stdout",
          "text": [
            "The area of the rectangle is: 50\n",
            "Hello, Alice!\n",
            "The result of greet function is: None\n"
          ]
        }
      ]
    },
    {
      "cell_type": "markdown",
      "source": [
        "In the first example, calculate_area returns the calculated area, which is then stored in the rectangle_area variable. In the second example, greet performs an action (printing a message) but doesn't explicitly return a value, so None is returned by default."
      ],
      "metadata": {
        "id": "aN_npnXtZl74"
      }
    },
    {
      "cell_type": "markdown",
      "source": [
        "5. What are iterators in Python and how do they differ from iterables?\n",
        " - In Python, iterables and iterators are fundamental concepts for working with sequences of data.\n",
        "\n",
        "    - An iterable is any object that can be iterated over, meaning you can loop through its elements. Examples of built-in iterables include lists, tuples, strings, and dictionaries. An object is iterable if it implements the __iter__() method, which returns an iterator, or the __getitem__() method, which allows accessing elements by index.\n",
        "\n",
        "    - An iterator is an object that represents a stream of data. It provides a way to access elements one at a time and keeps track of the current position in the sequence.\n",
        "    \n",
        "    An iterator implements two methods:\n",
        "      - __iter__(): Returns the iterator object itself.\n",
        "      - __next__(): Returns the next item in the sequence. When there are no  more items, it raises a StopIteration exception.\n",
        "\n",
        "Key Differences:\n",
        "\n",
        "- State: An iterator maintains internal state to keep track of the current position during iteration, while an iterable does not inherently maintain such state.\n",
        "\n",
        "- Methods: Iterables primarily implement __iter__() (or __getitem__()), while iterators implement both __iter__() and __next__().\n",
        "Creation: You can create an iterator from an iterable using the built-in iter() function.\n",
        "\n",
        "- Reusability: Iterators are typically consumed once; once all elements have been yielded, they are exhausted. Iterables, on the other hand, can be iterated over multiple times, as each iteration creates a new iterator.\n",
        "\n",
        "-Example:"
      ],
      "metadata": {
        "id": "i94Q8qG9Zqm7"
      }
    },
    {
      "cell_type": "code",
      "source": [
        "# An iterable (list)\n",
        "my_list = [1, 2, 3]\n",
        "\n",
        "# Create an iterator from the iterable\n",
        "my_iterator = iter(my_list)\n",
        "\n",
        "print(f\"Original list (iterable): {my_list}\")\n",
        "print(f\"Iterator object: {my_iterator}\")\n",
        "\n",
        "# Use the iterator to get elements\n",
        "print(f\"First element: {next(my_iterator)}\")\n",
        "print(f\"Second element: {next(my_iterator)}\")\n",
        "print(f\"Third element: {next(my_iterator)}\")\n",
        "\n",
        "# Attempting to get another element will raise StopIteration\n",
        "try:\n",
        "    next(my_iterator)\n",
        "except StopIteration:\n",
        "    print(\"End of iteration reached.\")\n",
        "\n",
        "# The original list (iterable) can be iterated again\n",
        "print(\"Iterating the list again:\")\n",
        "for item in my_list:\n",
        "    print(item)"
      ],
      "metadata": {
        "colab": {
          "base_uri": "https://localhost:8080/"
        },
        "id": "E6Mgb0V1bAso",
        "outputId": "2e8a5244-621e-4836-ea03-2c65ea06401b"
      },
      "execution_count": null,
      "outputs": [
        {
          "output_type": "stream",
          "name": "stdout",
          "text": [
            "Original list (iterable): [1, 2, 3]\n",
            "Iterator object: <list_iterator object at 0x7dd634751bd0>\n",
            "First element: 1\n",
            "Second element: 2\n",
            "Third element: 3\n",
            "End of iteration reached.\n",
            "Iterating the list again:\n",
            "1\n",
            "2\n",
            "3\n"
          ]
        }
      ]
    },
    {
      "cell_type": "markdown",
      "source": [
        "6. Explain the concept of generators in Python and how they are defined.\n",
        " - Generators in Python are a special type of iterable that allow you to iterate over a sequence of values without storing the entire sequence in memory. Unlike regular functions that use return to provide a single value and then terminate, generator functions use the yield keyword to produce a sequence of values one at a time, on demand. This makes them highly memory-efficient, especially when dealing with large or potentially infinite sequences.\n",
        "\n",
        "How they are defined:\n",
        "\n",
        "Generators are defined using a generator function or a generator expression.\n",
        "Generator Function:\n",
        "\n",
        "- A generator function is defined like a regular function using the def keyword.\n",
        "The key difference is the presence of one or more yield statements instead of return.\n",
        "- When a generator function is called, it returns a generator object (an iterator), not the computed values directly.\n",
        "- The code within the generator function only executes when next() is called on the generator object or when iterated over in a loop (e.g., for loop).\n",
        "Each time yield is encountered, the generator pauses, yields a value, and saves its state. When next() is called again, it resumes execution from where it left off.\n",
        "\n",
        "Generator Expression:\n",
        "\n",
        "- Generator expressions are a concise way to create generators in a single line, similar to list comprehensions but using parentheses () instead of square brackets [].\n",
        "They are particularly useful for creating simple, on-the-fly generators.\n",
        "\n",
        "-Example:"
      ],
      "metadata": {
        "id": "Sa1Br74hbPwQ"
      }
    },
    {
      "cell_type": "code",
      "source": [
        "# 1. Generator Function\n",
        "def count_up_to(limit):\n",
        "    n = 0\n",
        "    while n <= limit:\n",
        "        yield n  # Yields a value and pauses execution\n",
        "        n += 1\n",
        "\n",
        "# Create a generator object\n",
        "my_generator = count_up_to(5)\n",
        "\n",
        "# Iterate over the generator\n",
        "print(\"Using a generator function:\")\n",
        "for num in my_generator:\n",
        "    print(num)\n",
        "\n",
        "# 2. Generator Expression\n",
        "squares_generator = (x * x for x in range(5))\n",
        "\n",
        "# Iterate over the generator expression\n",
        "print(\"\\nUsing a generator expression:\")\n",
        "for square in squares_generator:\n",
        "    print(square)"
      ],
      "metadata": {
        "colab": {
          "base_uri": "https://localhost:8080/"
        },
        "id": "IaeUg4rJu-Yd",
        "outputId": "cfc0044c-90c5-4e26-abdd-591b52a7bc6a"
      },
      "execution_count": null,
      "outputs": [
        {
          "output_type": "stream",
          "name": "stdout",
          "text": [
            "Using a generator function:\n",
            "0\n",
            "1\n",
            "2\n",
            "3\n",
            "4\n",
            "5\n",
            "\n",
            "Using a generator expression:\n",
            "0\n",
            "1\n",
            "4\n",
            "9\n",
            "16\n"
          ]
        }
      ]
    },
    {
      "cell_type": "code",
      "source": [],
      "metadata": {
        "id": "RcOFdxDGu_0G"
      },
      "execution_count": null,
      "outputs": []
    },
    {
      "cell_type": "markdown",
      "source": [
        "Explanation of the example:\n",
        "\n",
        "count_up_to(limit): This generator function yields numbers from 0 up to limit. When yield n is executed, the current value of n is produced, and the function's state is preserved. The next time it's called, it resumes from n += 1.\n",
        "my_generator = count_up_to(5): This creates a generator object. No code within count_up_to has executed yet.\n",
        "\n",
        "for num in my_generator:: This loop drives the generator. In each iteration, next(my_generator) is implicitly called, causing the generator function to execute until the next yield statement.\n",
        "\n",
        "squares_generator = (x * x for x in range(5)): This generator expression directly creates a generator object that will yield the squares of numbers from 0 to 4."
      ],
      "metadata": {
        "id": "W4x8L3tEvIE4"
      }
    },
    {
      "cell_type": "markdown",
      "source": [
        "7. What are the advantages of using generators over regular functions?\n",
        " - Generators provide significant advantages over regular functions by using lazy evaluation to produce values one at a time, leading to memory efficiency, especially for large or infinite sequences.\n",
        "\n",
        " Advantages of Generators:\n",
        "\n",
        "- Memory Efficiency: Generators generate and consume values on-the-fly, rather than creating and storing an entire sequence in memory. This is crucial when dealing with large datasets, as it minimizes the memory footprint of your program.\n",
        "- Lazy Evaluation: Values are generated only when needed, a concept known as lazy evaluation. This means that if you only need a specific element, the generator doesn't waste time computing the rest of the sequence.\n",
        "- Infinite Sequences: Generators can represent infinite sequences because they don't store all elements. For example, a generator can produce an endless stream of Fibonacci numbers without exhausting memory.\n",
        "- Composability: Generators can be chained together to create data processing pipelines. This allows for modular, reusable, and efficient data transformation, where each generator in the pipeline processes data from the previous one.\n",
        "\n",
        "Example: Regular Function vs. Generator\n",
        "\n",
        "Let's consider a function to generate squares of numbers up to n.\n",
        "\n",
        "Regular Function"
      ],
      "metadata": {
        "id": "IYcs9fsDvcel"
      }
    },
    {
      "cell_type": "code",
      "source": [
        "def square_numbers_regular(n):\n",
        "    result = []\n",
        "    for i in range(n):\n",
        "        result.append(i * i)\n",
        "    return result\n",
        "\n",
        "# This creates a full list in memory\n",
        "squares = square_numbers_regular(1000000)\n",
        "# print(squares) # Will print a very large list"
      ],
      "metadata": {
        "id": "p2CkDDpcwrhx"
      },
      "execution_count": null,
      "outputs": []
    },
    {
      "cell_type": "markdown",
      "source": [
        "This function creates a complete list of all squares in memory before returning it, which can be very memory-intensive for large n.\n",
        "\n",
        "Generator Function"
      ],
      "metadata": {
        "id": "OvIrOjpBwydm"
      }
    },
    {
      "cell_type": "code",
      "source": [
        "def square_numbers_generator(n):\n",
        "    for i in range(n):\n",
        "        yield i * i # Use 'yield' to generate values one at a time\n",
        "\n",
        "# This returns a generator object\n",
        "squares_gen = square_numbers_generator(1000000)\n",
        "\n",
        "# Access values as needed\n",
        "# print(next(squares_gen)) # Prints 0\n",
        "# print(next(squares_gen)) # Prints 1\n",
        "# print(next(squares_gen)) # Prints 4\n",
        "\n",
        "# Or iterate through it\n",
        "for square in squares_gen:\n",
        "    # Process each square without storing the whole list\n",
        "    # print(square)\n",
        "    pass # In a real scenario, you'd process the square"
      ],
      "metadata": {
        "id": "kIL8BBndxdmx"
      },
      "execution_count": null,
      "outputs": []
    },
    {
      "cell_type": "markdown",
      "source": [
        "Here, square_numbers_generator uses yield to return a generator object. Values are produced only when next() is called or when iterating through the generator, making it memory-efficient for large sequences."
      ],
      "metadata": {
        "id": "1qfD1bK6xmER"
      }
    },
    {
      "cell_type": "markdown",
      "source": [
        "8. What is a lambda function in Python and when is it typically used?\n",
        " - A lambda function in Python is a small, anonymous function defined using the lambda keyword. Unlike regular functions defined with def, lambda functions do not have a name and are restricted to a single expression, which is implicitly returned.\n",
        "\n",
        " Syntax:"
      ],
      "metadata": {
        "id": "uKCQVyN9xyE2"
      }
    },
    {
      "cell_type": "code",
      "source": [
        "lambda arguments: expression"
      ],
      "metadata": {
        "colab": {
          "base_uri": "https://localhost:8080/"
        },
        "id": "07AmUYmJyTgH",
        "outputId": "61c5b83c-c26f-40f8-e886-198c8cd0402d"
      },
      "execution_count": null,
      "outputs": [
        {
          "output_type": "execute_result",
          "data": {
            "text/plain": [
              "<function __main__.<lambda>(arguments)>"
            ]
          },
          "metadata": {},
          "execution_count": 13
        }
      ]
    },
    {
      "cell_type": "code",
      "source": [],
      "metadata": {
        "id": "8QVurexiyUup"
      },
      "execution_count": null,
      "outputs": []
    },
    {
      "cell_type": "markdown",
      "source": [
        "When is it typically used?\n",
        "\n",
        "Lambda functions are typically used for short, simple operations where a full function definition with def would be considered overkill. They are often employed in conjunction with higher-order functions like map(), filter(), sorted(), and reduce(), where a small function needs to be passed as an argument.\n",
        "\n",
        "Typical Use Cases:\n",
        "\n",
        "- Sorting with a custom key: When sorting a list of complex objects or tuples, a lambda can be used as the key argument in sorted() to specify the sorting criteria.\n",
        "\n",
        "- Filtering elements: With filter(), a lambda can define the condition for including elements in the resulting iterable.\n",
        "Mapping transformations: Using map(), a lambda can apply a transformation to each element in an iterable.\n",
        "\n",
        "- Simple, one-off functions: For brief, single-expression tasks where defining a named function is unnecessary.\n",
        "\n",
        "Example:\n",
        "\n",
        "Consider sorting a list of tuples based on the second element of each tuple:"
      ],
      "metadata": {
        "id": "mPRgsoJDygUF"
      }
    },
    {
      "cell_type": "code",
      "source": [
        "data = [('apple', 3), ('banana', 1), ('cherry', 2)]\n",
        "\n",
        "# Using a lambda function as the key for sorting\n",
        "sorted_data = sorted(data, key=lambda item: item[1])\n",
        "\n",
        "print(sorted_data)"
      ],
      "metadata": {
        "colab": {
          "base_uri": "https://localhost:8080/"
        },
        "id": "UiqDEVRKy6-y",
        "outputId": "c299a334-3649-4de9-9f21-bbef72cdc3dd"
      },
      "execution_count": null,
      "outputs": [
        {
          "output_type": "stream",
          "name": "stdout",
          "text": [
            "[('banana', 1), ('cherry', 2), ('apple', 3)]\n"
          ]
        }
      ]
    },
    {
      "cell_type": "markdown",
      "source": [
        "9.Explain the purpose and usage of the `map()` function in Python.?\n",
        " - The map() function in Python applies a given function to each item in an iterable (like a list, tuple, or string) and returns a map object, which is an iterator. Its primary purpose is to transform elements within an iterable without explicitly writing a loop.\n",
        "\n",
        " Usage:\n",
        "\n",
        " The map() function takes two main arguments:\n",
        "\n",
        "-  function: The function to be applied to each item of the iterable. This can be a built-in function, a user-defined function, or a lambda function.\n",
        "-  iterable: One or more iterable objects whose elements will be passed to the function.\n",
        "\n",
        "Example:\n",
        "\n",
        "Consider squaring each number in a list.\n"
      ],
      "metadata": {
        "id": "bao7LokLy_kd"
      }
    },
    {
      "cell_type": "code",
      "source": [
        "def square(number):\n",
        "    return number * number\n",
        "\n",
        "numbers = [1, 2, 3, 4, 5]\n",
        "\n",
        "# Using map() to apply the square function to each number\n",
        "squared_numbers_map = map(square, numbers)\n",
        "\n",
        "# Convert the map object to a list to view the results\n",
        "squared_numbers_list = list(squared_numbers_map)\n",
        "\n",
        "print(squared_numbers_list)"
      ],
      "metadata": {
        "colab": {
          "base_uri": "https://localhost:8080/"
        },
        "id": "VkrRUiB7zyrm",
        "outputId": "1bd47b76-2e66-42ff-ca29-e3ccae389fb9"
      },
      "execution_count": null,
      "outputs": [
        {
          "output_type": "stream",
          "name": "stdout",
          "text": [
            "[1, 4, 9, 16, 25]\n"
          ]
        }
      ]
    },
    {
      "cell_type": "markdown",
      "source": [
        "Explanation of the example:\n",
        "\n",
        "- A function square() is defined to calculate the square of a given number.\n",
        "- A list numbers is created.\n",
        "- map(square, numbers) applies the square function to each element in the numbers list. It returns a map object.\n",
        "- list(squared_numbers_map) converts the map object into a list, allowing for easy inspection of the transformed elements."
      ],
      "metadata": {
        "id": "Sqrxr7pZz58g"
      }
    },
    {
      "cell_type": "markdown",
      "source": [
        "10. What is the difference between `map()`, `reduce()`, and `filter()` functions in Python?\n",
        "- In Python, map(), filter(), and reduce() are higher-order functions used for processing iterables (like lists, tuples, etc.) in a functional programming style. They differ in their purpose and the type of output they produce.\n",
        "\n",
        "1. map()\n",
        "\n",
        "    - Purpose: Applies a given function to each item in an iterable and returns a new iterable containing the results. It transforms each element individually.\n",
        "    - Output: A map object (an iterator in Python 3) containing the transformed elements."
      ],
      "metadata": {
        "id": "TwTsRg5i0Lb0"
      }
    },
    {
      "cell_type": "code",
      "source": [
        "# Example of map()\n",
        "numbers = [1, 2, 3, 4]\n",
        "squared_numbers = list(map(lambda x: x * x, numbers))\n",
        "print(squared_numbers)\n",
        "# Output: [1, 4, 9, 16]"
      ],
      "metadata": {
        "colab": {
          "base_uri": "https://localhost:8080/"
        },
        "id": "35twUGeC00Pu",
        "outputId": "5ca14b24-1daa-4e03-813f-1eba678c5463"
      },
      "execution_count": null,
      "outputs": [
        {
          "output_type": "stream",
          "name": "stdout",
          "text": [
            "[1, 4, 9, 16]\n"
          ]
        }
      ]
    },
    {
      "cell_type": "markdown",
      "source": [
        "2. filter()\n",
        "\n",
        "     - Purpose: Constructs a new iterable from elements of an existing iterable for which a given function returns True. It selects elements based on a condition.\n",
        "      - Output: A filter object (an iterator in Python 3) containing only the elements that satisfy the condition."
      ],
      "metadata": {
        "id": "QCz6xIFT08Cs"
      }
    },
    {
      "cell_type": "code",
      "source": [
        "# Example of filter()\n",
        "numbers = [1, 2, 3, 4, 5, 6]\n",
        "even_numbers = list(filter(lambda x: x % 2 == 0, numbers))\n",
        "print(even_numbers)\n",
        "# Output: [2, 4, 6]"
      ],
      "metadata": {
        "colab": {
          "base_uri": "https://localhost:8080/"
        },
        "id": "JBs1hp-51Isz",
        "outputId": "161270d2-6e24-435b-df1f-050049b8a1da"
      },
      "execution_count": null,
      "outputs": [
        {
          "output_type": "stream",
          "name": "stdout",
          "text": [
            "[2, 4, 6]\n"
          ]
        }
      ]
    },
    {
      "cell_type": "markdown",
      "source": [
        "3. reduce()\n",
        "\n",
        "      - Purpose: Applies a given function cumulatively to the items of an iterable, reducing the iterable to a single value. It performs a \"rolling computation.\"\n",
        "     - Output: A single, accumulated value.\n",
        "     \n",
        "Note: reduce() needs to be imported from the functools module."
      ],
      "metadata": {
        "id": "YzZFdqNz1Psj"
      }
    },
    {
      "cell_type": "code",
      "source": [
        "from functools import reduce\n",
        "\n",
        "# Example of reduce()\n",
        "numbers = [1, 2, 3, 4]\n",
        "sum_of_numbers = reduce(lambda x, y: x + y, numbers)\n",
        "print(sum_of_numbers)\n",
        "# Output: 10"
      ],
      "metadata": {
        "colab": {
          "base_uri": "https://localhost:8080/"
        },
        "id": "QhkSJEAH1ljq",
        "outputId": "7be30ccc-70ef-4a22-d05f-9dea6ca65134"
      },
      "execution_count": null,
      "outputs": [
        {
          "output_type": "stream",
          "name": "stdout",
          "text": [
            "10\n"
          ]
        }
      ]
    },
    {
      "cell_type": "markdown",
      "source": [
        "Key Differences Summarized:\n",
        "\n",
        "- map(): Transforms each element, maintaining the number of elements.\n",
        "- filter(): Selects elements based on a condition, potentially reducing the number of elements.\n",
        "- reduce(): Combines all elements into a single result"
      ],
      "metadata": {
        "id": "avHNSylH1s8q"
      }
    },
    {
      "cell_type": "markdown",
      "source": [
        "11.  Using pen & Paper write the internal mechanism for sum operation using reduce function on this given list:[47,11,42,13] ?\n",
        " - ![WhatsApp Image 2025-09-25 at 06.56.25.jpeg](data:image/jpeg;base64,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)"
      ],
      "metadata": {
        "id": "rrJF8hsuiOct"
      }
    },
    {
      "cell_type": "markdown",
      "source": [
        "PRACTICAL QUESTIONS..\n"
      ],
      "metadata": {
        "id": "Jo4jWirLiuWO"
      }
    },
    {
      "cell_type": "code",
      "source": [
        "#1. Write a Python function that takes a list of numbers as input and returns the sum of all even numbers in\n",
        "#    the list.\n",
        "\n",
        "def add_two_number ():\n",
        "  a = int(input(\"Enter the first number\"))\n",
        "  b = int(input(\"Enter the second number\"))\n",
        "  return a + b\n",
        "\n",
        "\n",
        "add_two_number()"
      ],
      "metadata": {
        "colab": {
          "base_uri": "https://localhost:8080/"
        },
        "id": "ZhwsBRYYi63M",
        "outputId": "2c742ea9-b1dc-4410-97c1-621abbf65754"
      },
      "execution_count": 6,
      "outputs": [
        {
          "name": "stdout",
          "output_type": "stream",
          "text": [
            "Enter the first number10\n",
            "Enter the second number20\n"
          ]
        },
        {
          "output_type": "execute_result",
          "data": {
            "text/plain": [
              "30"
            ]
          },
          "metadata": {},
          "execution_count": 6
        }
      ]
    },
    {
      "cell_type": "code",
      "source": [
        "#2. Create a Python function that accepts a string and returns the reverse of that string.\n",
        "\n",
        "def reverse_string ():\n",
        "  a = input(\"Enter the string\")\n",
        "  return a[::-1]\n",
        "\n",
        "reverse_string()"
      ],
      "metadata": {
        "id": "NUnjFRB-y74Q",
        "colab": {
          "base_uri": "https://localhost:8080/",
          "height": 53
        },
        "outputId": "d7835bbf-008d-4171-b65e-04dea0730512"
      },
      "execution_count": 7,
      "outputs": [
        {
          "name": "stdout",
          "output_type": "stream",
          "text": [
            "Enter the stringarun\n"
          ]
        },
        {
          "output_type": "execute_result",
          "data": {
            "text/plain": [
              "'nura'"
            ],
            "application/vnd.google.colaboratory.intrinsic+json": {
              "type": "string"
            }
          },
          "metadata": {},
          "execution_count": 7
        }
      ]
    },
    {
      "cell_type": "code",
      "source": [
        "#3. Implement a Python function that takes a list of integers and returns a new list containing the squares of\n",
        "#    each number.\n",
        "\n",
        "def Square_number (numbers):\n",
        "    squared_numbers = [num ** 2 for num in numbers]\n",
        "    return squared_numbers\n",
        "\n",
        "# Example usage:\n",
        "my_numbers = [1, 2, 3, 4, 5,6,7,8,9]\n",
        "squared_list = Square_number(my_numbers)\n",
        "print(squared_list)"
      ],
      "metadata": {
        "colab": {
          "base_uri": "https://localhost:8080/"
        },
        "id": "IZgl-Mskk4wE",
        "outputId": "e948030b-94b0-41cd-fdb1-219646065356"
      },
      "execution_count": 11,
      "outputs": [
        {
          "output_type": "stream",
          "name": "stdout",
          "text": [
            "[1, 4, 9, 16, 25, 36, 49, 64, 81]\n"
          ]
        }
      ]
    },
    {
      "cell_type": "code",
      "source": [
        "#4. Write a Python function that checks if a given number is prime or not from 1 to 200.\n",
        "import math\n",
        "\n",
        "def is_prime(number):\n",
        "    if not (1 <= number <= 200):\n",
        "        raise ValueError(\"Number must be between 1 and 200 (inclusive).\")\n",
        "\n",
        "    if number <= 1:\n",
        "        return False  # Numbers less than or equal to 1 are not prime\n",
        "    if number == 2:\n",
        "        return True   # 2 is the only even prime number\n",
        "    if number % 2 == 0:\n",
        "        return False  # Other even numbers are not prime\n",
        "\n",
        "    # Check for odd factors from 3 up to the square root of the number\n",
        "    # We only need to check up to the square root because if a number n\n",
        "    # has a factor greater than its square root, it must also have a\n",
        "    # factor smaller than its square root.\n",
        "    for i in range(3, int(math.sqrt(number)) + 1, 2):\n",
        "        if number % i == 0:\n",
        "            return False  # Found a factor, so it's not prime\n",
        "\n",
        "    return True  # No factors found, so it's prime\n",
        "\n",
        "# Example usage:\n",
        "print(is_prime(7))\n",
        "print(is_prime(10))\n",
        "print(is_prime(199))\n",
        "print(is_prime(1))\n",
        "print(is_prime(4))\n",
        "print(is_prime(2))"
      ],
      "metadata": {
        "colab": {
          "base_uri": "https://localhost:8080/"
        },
        "id": "dUCD6G48mRh0",
        "outputId": "9970f277-ed08-4ead-d73c-4b6cdeb40c48"
      },
      "execution_count": 15,
      "outputs": [
        {
          "output_type": "stream",
          "name": "stdout",
          "text": [
            "True\n",
            "False\n",
            "True\n",
            "False\n",
            "False\n",
            "True\n"
          ]
        }
      ]
    },
    {
      "cell_type": "code",
      "source": [
        "#5.Create an iterator class in Python that generates the Fibonacci sequence up to a specified number of\n",
        "#   terms.\n",
        "class FibonacciIterator:\n",
        "    def __init__(self, num_terms):\n",
        "        if not isinstance(num_terms, int) or num_terms < 0:\n",
        "            raise ValueError(\"Number of terms must be a non-negative integer.\")\n",
        "        self._num_terms = num_terms\n",
        "        self._current_term = 0\n",
        "        self._a, self._b = 0, 1\n",
        "\n",
        "    def __iter__(self):\n",
        "        return self\n",
        "\n",
        "    def __next__(self):\n",
        "        if self._current_term >= self._num_terms:\n",
        "            raise StopIteration\n",
        "\n",
        "        if self._current_term == 0:\n",
        "            result = 0\n",
        "        elif self._current_term == 1:\n",
        "            result = 1\n",
        "        else:\n",
        "            result = self._a + self._b\n",
        "            self._a = self._b\n",
        "            self._b = result\n",
        "\n",
        "        self._current_term += 1\n",
        "        return result\n",
        "\n",
        "# Example usage:\n",
        "if __name__ == \"__main__\":\n",
        "    fib_iterator = FibonacciIterator(10)\n",
        "    print(\"Fibonacci sequence up to 10 terms:\")\n",
        "    for num in fib_iterator:\n",
        "        print(num, end=\" \")\n",
        "    print()\n",
        "\n",
        "    fib_iterator_five = FibonacciIterator(5)\n",
        "    print(\"Fibonacci sequence up to 5 terms:\")\n",
        "    for num in fib_iterator_five:\n",
        "        print(num, end=\" \")\n",
        "    print()\n",
        "\n",
        "    # Demonstrating StopIteration\n",
        "    print(\"Demonstrating StopIteration:\")\n",
        "    fib_single = FibonacciIterator(1)\n",
        "    print(next(fib_single))\n",
        "    try:\n",
        "        print(next(fib_single))\n",
        "    except StopIteration:\n",
        "        print(\"StopIteration caught as expected.\")\n",
        "\n",
        "    # Handling invalid input\n",
        "    try:\n",
        "        invalid_fib = FibonacciIterator(-3)\n",
        "    except ValueError as e:\n",
        "        print(f\"Error: {e}\")"
      ],
      "metadata": {
        "colab": {
          "base_uri": "https://localhost:8080/"
        },
        "id": "gNm5L_r0mtsi",
        "outputId": "f5476900-0ffa-403e-fd98-ae318a7bba43"
      },
      "execution_count": 17,
      "outputs": [
        {
          "output_type": "stream",
          "name": "stdout",
          "text": [
            "Fibonacci sequence up to 10 terms:\n",
            "0 1 1 2 3 5 8 13 21 34 \n",
            "Fibonacci sequence up to 5 terms:\n",
            "0 1 1 2 3 \n",
            "Demonstrating StopIteration:\n",
            "0\n",
            "StopIteration caught as expected.\n",
            "Error: Number of terms must be a non-negative integer.\n"
          ]
        }
      ]
    },
    {
      "cell_type": "code",
      "source": [
        "#6.Write a generator function in Python that yields the powers of 2 up to a given exponent.\n",
        "\n",
        "def square_numbers_generator (num):\n",
        "  for i in range (num):\n",
        "    yield 2 ** i\n",
        "\n",
        "for i in square_numbers_generator (5):\n",
        "  print (i)"
      ],
      "metadata": {
        "colab": {
          "base_uri": "https://localhost:8080/"
        },
        "id": "nhmytKnrppJ1",
        "outputId": "ea05534a-7923-4a17-fc22-428c6ff5b279"
      },
      "execution_count": 18,
      "outputs": [
        {
          "output_type": "stream",
          "name": "stdout",
          "text": [
            "1\n",
            "2\n",
            "4\n",
            "8\n",
            "16\n"
          ]
        }
      ]
    },
    {
      "cell_type": "code",
      "source": [
        "#7.Implement a generator function that reads a file line by line and yields each line as a string.\n",
        "def read_lines (file_path):\n",
        "  with open (file_path, 'r') as file:\n",
        "    for line in file:\n",
        "      yield line"
      ],
      "metadata": {
        "id": "xpUZnbAaqRbW"
      },
      "execution_count": 21,
      "outputs": []
    },
    {
      "cell_type": "code",
      "source": [
        "#8. Use a lambda function in Python to sort a list of tuples based on the second element of each tuple.\n",
        "data = [('apple', 1), ('banana', 3), ('orange', 2)]\n",
        "sorted_data = sorted(data, key=lambda x: x[1])\n",
        "print(sorted_data)"
      ],
      "metadata": {
        "colab": {
          "base_uri": "https://localhost:8080/"
        },
        "id": "vil3BGUAquG5",
        "outputId": "98fbd9e7-a15e-4a37-d3f1-c5e6067e9938"
      },
      "execution_count": 22,
      "outputs": [
        {
          "output_type": "stream",
          "name": "stdout",
          "text": [
            "[('apple', 1), ('orange', 2), ('banana', 3)]\n"
          ]
        }
      ]
    },
    {
      "cell_type": "code",
      "source": [
        "#9. Write a Python program that uses `map()` to convert a list of temperatures from Celsius to Fahrenheit.\n",
        "def celsius_to_fahrenheit(celsius):\n",
        "  \"\"\"Converts a temperature from Celsius to Fahrenheit.\"\"\"\n",
        "  return (celsius * 9/5) + 32\n",
        "\n",
        "# List of temperatures in Celsius\n",
        "celsius_temperatures = [0, 10, 20, 30, 40, 100]\n",
        "\n",
        "# Use map() to apply the conversion function to each temperature\n",
        "fahrenheit_temperatures_map_object = map(celsius_to_fahrenheit, celsius_temperatures)\n",
        "\n",
        "# Convert the map object to a list to view the results\n",
        "fahrenheit_temperatures = list(fahrenheit_temperatures_map_object)\n",
        "\n",
        "# Print the original and converted temperatures\n",
        "print(f\"Celsius temperatures: {celsius_temperatures}\")\n",
        "print(f\"Fahrenheit temperatures: {fahrenheit_temperatures}\")"
      ],
      "metadata": {
        "colab": {
          "base_uri": "https://localhost:8080/"
        },
        "id": "u0qp6cVYrSdI",
        "outputId": "c1f9beab-7a3d-4811-b7f3-44888274a7b9"
      },
      "execution_count": 23,
      "outputs": [
        {
          "output_type": "stream",
          "name": "stdout",
          "text": [
            "Celsius temperatures: [0, 10, 20, 30, 40, 100]\n",
            "Fahrenheit temperatures: [32.0, 50.0, 68.0, 86.0, 104.0, 212.0]\n"
          ]
        }
      ]
    },
    {
      "cell_type": "code",
      "source": [
        "#10. Create a Python program that uses `filter()` to remove all the vowels from a given string.\n",
        "# Define a set of vowels for fast lookup\n",
        "VOWELS = \"aeiouAEIOU\"\n",
        "\n",
        "def remove_vowels(input_string):\n",
        "\n",
        "    # Use a lambda function to check if a character is not in the VOWELS set.\n",
        "    # The filter() function constructs an iterator of characters that return True.\n",
        "    filtered_characters = filter(lambda char: char not in VOWELS, input_string)\n",
        "\n",
        "    # Join the characters from the iterator to form the new string.\n",
        "    return \"\".join(filtered_characters)\n",
        "\n",
        "# Example usage\n",
        "original_string = \"Hello, World! This is a test string with vowels.\"\n",
        "new_string = remove_vowels(original_string)\n",
        "\n",
        "print(f\"Original string: {original_string}\")\n",
        "print(f\"New string with vowels removed: {new_string}\")\n"
      ],
      "metadata": {
        "colab": {
          "base_uri": "https://localhost:8080/"
        },
        "id": "Tmw6A0her5oI",
        "outputId": "81023e2d-f964-47ca-868b-02b2f6764568"
      },
      "execution_count": 24,
      "outputs": [
        {
          "output_type": "stream",
          "name": "stdout",
          "text": [
            "Original string: Hello, World! This is a test string with vowels.\n",
            "New string with vowels removed: Hll, Wrld! Ths s  tst strng wth vwls.\n"
          ]
        }
      ]
    },
    {
      "cell_type": "markdown",
      "source": [
        "11."
      ],
      "metadata": {
        "id": "abkkaSMUve7_"
      }
    },
    {
      "cell_type": "code",
      "source": [
        "#11. Imagine an accounting routine used in a book shop. It works on a list with sublists, which look like this:\n",
        "#Order    # Number  Book Title and Author     #Quantity     #Price per Item\n",
        "# 34587     Learning Python, Mark Lutz             4             40.95\n",
        "# 98762     Programming Python, Mark Lutz          5             56.80\n",
        "# 77226     Head First Python, Paul Barry          3             32.95\n",
        "# 88112     Einführung in Python3, Bernd Klein     3             24.99\n",
        "\n",
        "#Write a Python program, which returns a list with 2-tuples. Each tuple consists of the order number and the\n",
        "#product of the price per item and the quantity. The product should be increased by 10,- if the value of the\n",
        "#order is smaller than 100,00 .\n",
        "\n",
        "#Write a Python program using lambda and map.\n",
        "\n",
        "orders = [\n",
        "    [34587, \"Learning Python, Mark Lutz\", 4, 40.95],\n",
        "    [98762, \"Programming Python, Mark Lutz\", 5, 56.80],\n",
        "    [77226, \"Head First Python, Paul Barry\", 3, 32.95],\n",
        "    [88112, \"Einführung in Python3, Bernd Klein\", 3, 24.99]\n",
        "]\n",
        "\n",
        "# Use map and lambda to calculate the adjusted total for each order\n",
        "processed_orders = list(map(\n",
        "    lambda order: (\n",
        "        order[0],  # Order number\n",
        "        order[3] * order[2] + (10 if order[3] * order[2] < 100 else 0)\n",
        "        # Product of price and quantity, with +10 if less than 100\n",
        "    ),\n",
        "    orders\n",
        "))\n",
        "\n",
        "print(processed_orders)"
      ],
      "metadata": {
        "colab": {
          "base_uri": "https://localhost:8080/"
        },
        "id": "cUsGS50KvhD2",
        "outputId": "4b4a225e-0c69-4cc6-a5aa-fd92eadb3a86"
      },
      "execution_count": 31,
      "outputs": [
        {
          "output_type": "stream",
          "name": "stdout",
          "text": [
            "[(34587, 163.8), (98762, 284.0), (77226, 108.85000000000001), (88112, 84.97)]\n"
          ]
        }
      ]
    },
    {
      "cell_type": "code",
      "source": [],
      "metadata": {
        "id": "FMIG7jiMw4on"
      },
      "execution_count": null,
      "outputs": []
    }
  ]
}